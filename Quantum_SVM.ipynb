{
 "cells": [
  {
   "cell_type": "code",
   "execution_count": 1,
   "metadata": {
    "colab": {},
    "colab_type": "code",
    "id": "96xOhdnESgLV"
   },
   "outputs": [],
   "source": [
    "# Importing the libraries\n",
    "import pandas as pd\n",
    "import numpy as np\n",
    "import matplotlib.pyplot as plt"
   ]
  },
  {
   "cell_type": "code",
   "execution_count": 2,
   "metadata": {
    "colab": {},
    "colab_type": "code",
    "id": "Q2a5wBASSgLY"
   },
   "outputs": [],
   "source": [
    "data=pd.read_csv('train.csv')\n",
    "#data.drop(data.columns[data.columns.str.contains('unnamed',case = False)],axis = 1, inplace = True)"
   ]
  },
  {
   "cell_type": "code",
   "execution_count": 3,
   "metadata": {
    "colab": {
     "base_uri": "https://localhost:8080/",
     "height": 221
    },
    "colab_type": "code",
    "id": "Cu6DFXiJSgLa",
    "outputId": "57b398d9-f9f2-4224-e427-c4bd10eeacef"
   },
   "outputs": [],
   "source": [
    "data=data[:50]"
   ]
  },
  {
   "cell_type": "code",
   "execution_count": 4,
   "metadata": {
    "colab": {
     "base_uri": "https://localhost:8080/",
     "height": 119
    },
    "colab_type": "code",
    "id": "y11LWmAuSgLg",
    "outputId": "57e50359-936d-4152-fad8-7646d35020a4"
   },
   "outputs": [
    {
     "data": {
      "text/plain": [
       "id        0\n",
       "title     0\n",
       "author    7\n",
       "text      0\n",
       "label     0\n",
       "dtype: int64"
      ]
     },
     "execution_count": 4,
     "metadata": {},
     "output_type": "execute_result"
    }
   ],
   "source": [
    "data.isnull().sum()"
   ]
  },
  {
   "cell_type": "code",
   "execution_count": 5,
   "metadata": {
    "colab": {
     "base_uri": "https://localhost:8080/",
     "height": 119
    },
    "colab_type": "code",
    "id": "ulS48WvmSgLj",
    "outputId": "b6a1a9bd-e06c-4ec9-c917-43a7dfcff19a"
   },
   "outputs": [
    {
     "data": {
      "text/plain": [
       "id         int64\n",
       "title     object\n",
       "author    object\n",
       "text      object\n",
       "label      int64\n",
       "dtype: object"
      ]
     },
     "execution_count": 5,
     "metadata": {},
     "output_type": "execute_result"
    }
   ],
   "source": [
    "data.dtypes"
   ]
  },
  {
   "cell_type": "markdown",
   "metadata": {
    "colab_type": "text",
    "id": "iOo8RrkySgLl"
   },
   "source": [
    "** We can see multiple null values here but for text type we can't impute the missing values so we will drop the missing values **"
   ]
  },
  {
   "cell_type": "code",
   "execution_count": 6,
   "metadata": {
    "colab": {
     "base_uri": "https://localhost:8080/",
     "height": 119
    },
    "colab_type": "code",
    "id": "k3tmsPZoSgLl",
    "outputId": "1d12fd17-76e2-494f-9bdd-6d692eefbd6e"
   },
   "outputs": [
    {
     "data": {
      "text/plain": [
       "id        0\n",
       "title     0\n",
       "author    0\n",
       "text      0\n",
       "label     0\n",
       "dtype: int64"
      ]
     },
     "execution_count": 6,
     "metadata": {},
     "output_type": "execute_result"
    }
   ],
   "source": [
    "data=data.dropna()\n",
    "data.isnull().sum()"
   ]
  },
  {
   "cell_type": "code",
   "execution_count": 7,
   "metadata": {
    "colab": {},
    "colab_type": "code",
    "id": "NBrqy5AuSgLo"
   },
   "outputs": [],
   "source": [
    "messages=data.copy()"
   ]
  },
  {
   "cell_type": "code",
   "execution_count": 8,
   "metadata": {},
   "outputs": [],
   "source": [
    "messages.reset_index(inplace=True,drop=True)"
   ]
  },
  {
   "cell_type": "markdown",
   "metadata": {
    "colab_type": "text",
    "id": "1SQCrC9cSgLq"
   },
   "source": [
    "** I am resetting the index because some missing values are deleted so the entire row will be deleted so that index also get deleted ***"
   ]
  },
  {
   "cell_type": "code",
   "execution_count": 9,
   "metadata": {
    "colab": {
     "base_uri": "https://localhost:8080/",
     "height": 51
    },
    "colab_type": "code",
    "id": "9J6kQMwMSgLs",
    "outputId": "27469cdf-9cf6-4a93-d07d-0120307d23cf"
   },
   "outputs": [],
   "source": [
    "#!pip install nltk"
   ]
  },
  {
   "cell_type": "code",
   "execution_count": 10,
   "metadata": {
    "colab": {
     "base_uri": "https://localhost:8080/",
     "height": 68
    },
    "colab_type": "code",
    "id": "6a4szGKISgLu",
    "outputId": "da42f1be-274e-4de8-aee8-5c448c61fe33"
   },
   "outputs": [],
   "source": [
    "#nltk.download('stopwords')"
   ]
  },
  {
   "cell_type": "code",
   "execution_count": 11,
   "metadata": {
    "colab": {},
    "colab_type": "code",
    "id": "_HHvZtC-SgLw"
   },
   "outputs": [],
   "source": [
    "from nltk.corpus import stopwords\n",
    "from nltk.stem.porter import PorterStemmer\n",
    "import re"
   ]
  },
  {
   "cell_type": "markdown",
   "metadata": {
    "colab_type": "text",
    "id": "HBXgdHnSSgLz"
   },
   "source": [
    "# Data processing"
   ]
  },
  {
   "cell_type": "code",
   "execution_count": 12,
   "metadata": {
    "colab": {},
    "colab_type": "code",
    "id": "tglhYLXwSgLz"
   },
   "outputs": [
    {
     "data": {
      "text/plain": [
       "['The', 'Fulton', 'County', 'Grand', 'Jury', 'said', ...]"
      ]
     },
     "execution_count": 12,
     "metadata": {},
     "output_type": "execute_result"
    }
   ],
   "source": [
    "from nltk.corpus import brown\n",
    "brown.words()"
   ]
  },
  {
   "cell_type": "code",
   "execution_count": 13,
   "metadata": {},
   "outputs": [
    {
     "name": "stderr",
     "output_type": "stream",
     "text": [
      "[nltk_data] Downloading package stopwords to C:\\nltk_data...\n",
      "[nltk_data]   Package stopwords is already up-to-date!\n"
     ]
    },
    {
     "data": {
      "text/plain": [
       "True"
      ]
     },
     "execution_count": 13,
     "metadata": {},
     "output_type": "execute_result"
    }
   ],
   "source": [
    "import nltk\n",
    "nltk.download('stopwords')"
   ]
  },
  {
   "cell_type": "code",
   "execution_count": 14,
   "metadata": {
    "colab": {},
    "colab_type": "code",
    "id": "kn3anLruSgL1"
   },
   "outputs": [],
   "source": [
    "\n",
    "ps = PorterStemmer()\n",
    "corpus = []\n",
    "for i in range(0, len(messages)):\n",
    "    review = re.sub('[^a-zA-Z]', ' ', messages['title'][i])\n",
    "    review = review.lower()\n",
    "    review = review.split()\n",
    "    \n",
    "    review = [ps.stem(word) for word in review if not word in stopwords.words('english')]\n",
    "    review = ' '.join(review)\n",
    "    corpus.append(review)\n",
    "    "
   ]
  },
  {
   "cell_type": "code",
   "execution_count": 15,
   "metadata": {
    "colab": {
     "base_uri": "https://localhost:8080/",
     "height": 35
    },
    "colab_type": "code",
    "id": "47JXJ1QWSgL3",
    "outputId": "a7037b52-dc73-46b7-b946-9ca250b5721f"
   },
   "outputs": [
    {
     "data": {
      "text/plain": [
       "'flynn hillari clinton big woman campu breitbart'"
      ]
     },
     "execution_count": 15,
     "metadata": {},
     "output_type": "execute_result"
    }
   ],
   "source": [
    "corpus[1]"
   ]
  },
  {
   "cell_type": "code",
   "execution_count": 16,
   "metadata": {
    "colab": {},
    "colab_type": "code",
    "id": "e2Rmmqv7SgL5"
   },
   "outputs": [],
   "source": [
    "import qiskit"
   ]
  },
  {
   "cell_type": "code",
   "execution_count": 17,
   "metadata": {
    "colab": {},
    "colab_type": "code",
    "id": "BtPLDk0aSgL7"
   },
   "outputs": [],
   "source": [
    "## TFidf Vectorizer\n",
    "from sklearn.feature_extraction.text import TfidfVectorizer\n",
    "vect=TfidfVectorizer()\n",
    "X= vect.fit_transform(corpus).toarray()"
   ]
  },
  {
   "cell_type": "code",
   "execution_count": 18,
   "metadata": {
    "colab": {
     "base_uri": "https://localhost:8080/",
     "height": 34
    },
    "colab_type": "code",
    "id": "PqKxMleMSgL9",
    "outputId": "48685295-3e23-417d-a957-3110c3250f34"
   },
   "outputs": [
    {
     "data": {
      "text/plain": [
       "(43, 291)"
      ]
     },
     "execution_count": 18,
     "metadata": {},
     "output_type": "execute_result"
    }
   ],
   "source": [
    "X.shape"
   ]
  },
  {
   "cell_type": "code",
   "execution_count": 19,
   "metadata": {
    "colab": {},
    "colab_type": "code",
    "id": "oXhHUFSWSgL_"
   },
   "outputs": [],
   "source": [
    "y=messages['label']"
   ]
  },
  {
   "cell_type": "code",
   "execution_count": 20,
   "metadata": {
    "colab": {
     "base_uri": "https://localhost:8080/",
     "height": 34
    },
    "colab_type": "code",
    "id": "_hRmdANpSgMB",
    "outputId": "c480a737-a507-4fa9-dff5-f9ee8722b5e7"
   },
   "outputs": [
    {
     "data": {
      "text/plain": [
       "(43,)"
      ]
     },
     "execution_count": 20,
     "metadata": {},
     "output_type": "execute_result"
    }
   ],
   "source": [
    "y.shape"
   ]
  },
  {
   "cell_type": "markdown",
   "metadata": {
    "colab_type": "text",
    "id": "lwptgJB_SgMD"
   },
   "source": [
    "## QSVM using IBM Qiskit"
   ]
  },
  {
   "cell_type": "markdown",
   "metadata": {
    "colab_type": "text",
    "id": "RqRMZ8GJSgMD"
   },
   "source": [
    "First we have createa first quantum circuit, with a classical register.\n",
    "\n"
   ]
  },
  {
   "cell_type": "code",
   "execution_count": 21,
   "metadata": {
    "colab": {},
    "colab_type": "code",
    "id": "jyg5ZE8jSgMD"
   },
   "outputs": [],
   "source": [
    "import qiskit as qk\n",
    "\n",
    "# Creating Qubits\n",
    "q = qk.QuantumRegister(2)\n",
    "# Creating Classical Bits\n",
    "c = qk.ClassicalRegister(2)"
   ]
  },
  {
   "cell_type": "markdown",
   "metadata": {
    "colab_type": "text",
    "id": "NTw1GM1vSgMF"
   },
   "source": [
    "Create a empty circuit with 2 qubits and 2 registers"
   ]
  },
  {
   "cell_type": "code",
   "execution_count": 22,
   "metadata": {
    "colab": {},
    "colab_type": "code",
    "id": "jlFBpnzfSgMG",
    "outputId": "eafd6416-bbf7-483e-bee6-7f01395373d3"
   },
   "outputs": [
    {
     "name": "stdout",
     "output_type": "stream",
     "text": [
      "      \n",
      "q0_0: \n",
      "      \n",
      "q0_1: \n",
      "      \n",
      "c0: 2/\n",
      "      \n"
     ]
    }
   ],
   "source": [
    "circuit = qk.QuantumCircuit(q, c)\n",
    "print(circuit)\n"
   ]
  },
  {
   "cell_type": "code",
   "execution_count": 23,
   "metadata": {
    "colab": {},
    "colab_type": "code",
    "id": "7hXceiCNSgMI",
    "outputId": "7d61696a-e230-4170-daea-3125db7cc5b4"
   },
   "outputs": [
    {
     "name": "stdout",
     "output_type": "stream",
     "text": [
      "      ┌───┐     ┌─┐   \n",
      "q0_0: ┤ H ├──■──┤M├───\n",
      "      └───┘┌─┴─┐└╥┘┌─┐\n",
      "q0_1: ─────┤ X ├─╫─┤M├\n",
      "           └───┘ ║ └╥┘\n",
      "c0: 2/═══════════╩══╩═\n",
      "                 0  1 \n"
     ]
    }
   ],
   "source": [
    "# Initialize empty circuit\n",
    "circuit = qk.QuantumCircuit(q, c)\n",
    "# Hadamard Gate on the first Qubit\n",
    "circuit.h(q[0])\n",
    "# CNOT Gate on the first and second Qubits\n",
    "circuit.cx(q[0], q[1])\n",
    "# Measuring the Qubits\n",
    "circuit.measure(q, c)\n",
    "print (circuit)"
   ]
  },
  {
   "cell_type": "code",
   "execution_count": 24,
   "metadata": {
    "colab": {},
    "colab_type": "code",
    "id": "4KfTa8N4SgMK",
    "outputId": "87d11aea-4e80-4995-e3b5-e38dc3b8cb1b"
   },
   "outputs": [
    {
     "name": "stdout",
     "output_type": "stream",
     "text": [
      "{'11': 53, '00': 47}\n"
     ]
    }
   ],
   "source": [
    "# Using Qiskit Aer's Qasm Simulator: Define where do you want to run the simulation.\n",
    "simulator = qk.BasicAer.get_backend('qasm_simulator')\n",
    "\n",
    "# Simulating the circuit using the simulator to get the result\n",
    "job = qk.execute(circuit, simulator, shots=100)\n",
    "result = job.result()\n",
    "\n",
    "# Getting the aggregated binary outcomes of the circuit.\n",
    "counts = result.get_counts(circuit)\n",
    "print (counts)"
   ]
  },
  {
   "cell_type": "code",
   "execution_count": 25,
   "metadata": {
    "colab": {},
    "colab_type": "code",
    "id": "bX3B5midsQqM"
   },
   "outputs": [],
   "source": [
    "#!pip install qiskit"
   ]
  },
  {
   "cell_type": "code",
   "execution_count": 26,
   "metadata": {
    "colab": {},
    "colab_type": "code",
    "id": "dm0dP6PiSgMM"
   },
   "outputs": [],
   "source": [
    "from sklearn.model_selection import train_test_split\n",
    "from sklearn.decomposition import TruncatedSVD\n",
    "from sklearn.preprocessing import MinMaxScaler\n",
    "from qiskit import BasicAer,Aer\n",
    "from qiskit.aqua.utils import split_dataset_to_data_and_labels,map_label_to_class_name\n",
    "from qiskit.aqua import QuantumInstance\n",
    "from qiskit.aqua.algorithms import QSVM\n",
    "\n",
    "from qiskit.aqua.components.feature_maps import SecondOrderExpansion\n",
    "import logging\n",
    "from qiskit.aqua import set_qiskit_aqua_logging\n",
    "from qiskit.aqua import aqua_globals\n",
    "from qiskit.aqua.components.multiclass_extensions import AllPairs\n",
    "from qiskit.aqua.utils.dataset_helper import get_feature_dimension\n",
    "from sklearn.model_selection import train_test_split\n",
    "from sklearn.preprocessing import StandardScaler\n",
    "from sklearn.decomposition import PCA\n",
    "from sklearn.preprocessing import MinMaxScaler\n",
    "from qiskit.aqua import aqua_globals\n"
   ]
  },
  {
   "cell_type": "code",
   "execution_count": 27,
   "metadata": {
    "colab": {},
    "colab_type": "code",
    "id": "jmfDeAPyqwmH"
   },
   "outputs": [],
   "source": [
    "X_train, X_test, y_train, y_test = train_test_split(X, y, test_size=0.3, random_state=0)"
   ]
  },
  {
   "cell_type": "code",
   "execution_count": null,
   "metadata": {
    "colab": {},
    "colab_type": "code",
    "id": "vclcz2GSqwmL",
    "outputId": "77f41e9c-c3ac-48b9-cd8b-9bb9ad2b17c4"
   },
   "outputs": [],
   "source": []
  },
  {
   "cell_type": "code",
   "execution_count": 28,
   "metadata": {
    "colab": {},
    "colab_type": "code",
    "id": "AvJBPhs9SgMO"
   },
   "outputs": [],
   "source": [
    "def data(training_size,test_size,n,plot_data=False):\n",
    "    class_labels=[\"Not_Spam\",\"Spam\"]\n",
    "    ## Divide the dataset into Train and Test\n",
    "    data, target = X,y\n",
    "    #print(\"This is data\",data)\n",
    "    #print(\"This is target\",target)\n",
    "    sample_train, sample_test, label_train, label_test = train_test_split(data, target, test_size=0.3, random_state=12)\n",
    "    # Now we standardize for gaussian around 0 with unit variance\n",
    "    std_scale = StandardScaler().fit(sample_train)\n",
    "    sample_train = std_scale.transform(sample_train)\n",
    "    sample_test = std_scale.transform(sample_test)\n",
    "\n",
    "    # Now reduce number of features to number of qubits\n",
    "    SVD = TruncatedSVD(n_components=n).fit(sample_train)\n",
    "    sample_train = SVD.transform(sample_train)\n",
    "    sample_test = SVD.transform(sample_test)\n",
    "\n",
    "    # Scale to the range (-1,+1)\n",
    "    samples = np.append(sample_train, sample_test, axis=0)\n",
    "    minmax_scale = MinMaxScaler((-1, 1)).fit(samples)\n",
    "    sample_train = minmax_scale.transform(sample_train)\n",
    "    sample_test = minmax_scale.transform(sample_test)\n",
    "\n",
    "    # Pick training size number of samples from each distro\n",
    "    training_input = {key: (sample_train[label_train == k, :])[:training_size]\n",
    "                      for k, key in enumerate(class_labels)}\n",
    "    test_input = {key: (sample_test[label_test == k, :])[:test_size]\n",
    "                  for k, key in enumerate(class_labels)}\n",
    "\n",
    "    if plot_data:\n",
    "        for k in range(len(class_labels)):\n",
    "            plt.scatter(sample_train[label_train == k, 0][:training_size],\n",
    "                        sample_train[label_train == k, 1][:training_size])\n",
    "\n",
    "        plt.title(\"Spam dataset\")\n",
    "        plt.get_plot_commands()\n",
    "        plt.show()\n",
    "    return sample_train, training_input, test_input, class_labels"
   ]
  },
  {
   "cell_type": "code",
   "execution_count": 29,
   "metadata": {
    "colab": {
     "base_uri": "https://localhost:8080/",
     "height": 281
    },
    "colab_type": "code",
    "id": "DvNSWnJNSgMQ",
    "outputId": "469bc4a4-e45e-4356-e828-6bb8348b85cc"
   },
   "outputs": [
    {
     "data": {
      "image/png": "[encoded data removed]",
      "text/plain": [
       "<Figure size 432x288 with 1 Axes>"
      ]
     },
     "metadata": {
      "needs_background": "light"
     },
     "output_type": "display_data"
    }
   ],
   "source": [
    "samples,training_input,test_input,class_labels=data(400,100,4,plot_data=True)"
   ]
  },
  {
   "cell_type": "code",
   "execution_count": 30,
   "metadata": {
    "colab": {},
    "colab_type": "code",
    "id": "fEYOmp7dsvKq"
   },
   "outputs": [],
   "source": [
    "datapoints,class_to_label=split_dataset_to_data_and_labels(test_input)"
   ]
  },
  {
   "cell_type": "code",
   "execution_count": 31,
   "metadata": {
    "colab": {
     "base_uri": "https://localhost:8080/",
     "height": 34
    },
    "colab_type": "code",
    "id": "nZGjgpjVtPMC",
    "outputId": "a4d85bdd-7602-4865-904d-3850f2f155e7"
   },
   "outputs": [
    {
     "data": {
      "text/plain": [
       "4"
      ]
     },
     "execution_count": 31,
     "metadata": {},
     "output_type": "execute_result"
    }
   ],
   "source": [
    "get_feature_dimension(training_input)"
   ]
  },
  {
   "cell_type": "code",
   "execution_count": 34,
   "metadata": {
    "colab": {
     "base_uri": "https://localhost:8080/",
     "height": 394
    },
    "colab_type": "code",
    "id": "kysr4W2mSgMW",
    "outputId": "146ded50-be82-408a-9533-3e2a0063f706",
    "scrolled": true
   },
   "outputs": [
    {
     "name": "stderr",
     "output_type": "stream",
     "text": [
      "C:\\Users\\gunda\\AppData\\Local\\Continuum\\anaconda3\\lib\\site-packages\\ipykernel_launcher.py:5: DeprecationWarning: The qiskit.aqua.components.feature_maps.SecondOrderExpansion object is deprecated as of 0.7.0 and will be removed no sooner than 3 months after the release. You should use qiskit.circuit.library.ZZFeatureMap instead.\n",
      "  \"\"\"\n",
      "C:\\Users\\gunda\\AppData\\Local\\Continuum\\anaconda3\\lib\\site-packages\\qiskit\\aqua\\components\\feature_maps\\second_order_expansion.py:59: DeprecationWarning: The qiskit.aqua.components.feature_maps.PauliZExpansion class is deprecated as of 0.7.0 and will be removed no sooner than 3 months after the release. You should use qiskit.circuit.library.PauliFeatureMap instead.\n",
      "  z_order=2, data_map_func=data_map_func)\n",
      "C:\\Users\\gunda\\AppData\\Local\\Continuum\\anaconda3\\lib\\site-packages\\qiskit\\aqua\\components\\feature_maps\\pauli_z_expansion.py:71: DeprecationWarning: The qiskit.aqua.components.feature_maps.PauliExpansion object is deprecated as of 0.7.0 and will be removed no sooner than 3 months after the release. You should use qiskit.circuit.library.PauliFeatureMap instead.\n",
      "  paulis=pauli_string, data_map_func=data_map_func)\n",
      "Due to the limited entangler_map, IZIZ is skipped.\n",
      "Due to the limited entangler_map, ZIIZ is skipped.\n",
      "Due to the limited entangler_map, ZIZI is skipped.\n",
      "Dataset has just two classes. Supplied multiclass extension will be ignored\n",
      "C:\\Users\\gunda\\AppData\\Local\\Continuum\\anaconda3\\lib\\site-packages\\ipykernel_launcher.py:7: DeprecationWarning: \n",
      "                The <class 'qiskit.aqua.components.feature_maps.second_order_expansion.SecondOrderExpansion'> object as input for the QSVM is deprecated as of 0.7.0 and will\n",
      "                be removed no earlier than 3 months after the release.\n",
      "                You should pass a QuantumCircuit object instead.\n",
      "                See also qiskit.circuit.library.data_preparation for a collection\n",
      "                of suitable circuits.\n",
      "  import sys\n"
     ]
    },
    {
     "name": "stdout",
     "output_type": "stream",
     "text": [
      "testing success ratio: 0.9230769230769231\n",
      "preduction of datapoints:\n",
      "ground truth: ['Not_Spam', 'Not_Spam', 'Not_Spam', 'Not_Spam', 'Not_Spam', 'Not_Spam', 'Not_Spam', 'Not_Spam', 'Not_Spam', 'Spam', 'Spam', 'Spam', 'Spam']\n",
      "prediction:   ['Not_Spam', 'Not_Spam', 'Not_Spam', 'Not_Spam', 'Not_Spam', 'Not_Spam', 'Not_Spam', 'Not_Spam', 'Spam', 'Spam', 'Spam', 'Spam', 'Spam']\n"
     ]
    }
   ],
   "source": [
    "seed = 10598\n",
    "\n",
    "backend = BasicAer.get_backend('statevector_simulator')\n",
    "feature_map = SecondOrderExpansion(feature_dimension=get_feature_dimension(training_input),\n",
    "                                   depth=6, entanglement='linear')\n",
    "qsvm = QSVM(feature_map, training_input, test_input,  datapoints[0],\n",
    "          multiclass_extension=AllPairs())\n",
    "quantum_instance = QuantumInstance(backend, shots=1024,\n",
    "                                    seed_simulator=seed,\n",
    "                                    seed_transpiler=seed)\n",
    "\n",
    "result = qsvm.run(quantum_instance)\n",
    "\n",
    "print(\"testing success ratio: {}\".format(result['testing_accuracy']))\n",
    "print(\"preduction of datapoints:\")\n",
    "print(\"ground truth: {}\".format(map_label_to_class_name(datapoints[1], qsvm.label_to_class)))\n",
    "print(\"prediction:   {}\".format(result['predicted_classes']))"
   ]
  },
  {
   "cell_type": "code",
   "execution_count": 33,
   "metadata": {
    "colab": {
     "base_uri": "https://localhost:8080/",
     "height": 1000
    },
    "colab_type": "code",
    "id": "8HqEkwj-t11A",
    "outputId": "37ae2b97-2fd2-4303-8989-bed33c6a99fd"
   },
   "outputs": [
    {
     "data": {
      "text/html": [
       "<pre style=\"word-wrap: normal;white-space: pre;background: #fff0;line-height: 1.1;font-family: &quot;Courier New&quot;,Courier,monospace\">     ┌──────────┐┌──────────────┐┌──────────────┐┌──────────────┐»\n",
       "q_0: ┤ U2(0,pi) ├┤0             ├┤0             ├┤0             ├»\n",
       "     ├──────────┤│              ││              ││              │»\n",
       "q_1: ┤ U2(0,pi) ├┤1             ├┤1             ├┤1             ├»\n",
       "     ├──────────┤│  Evolution^1 ││  Evolution^1 ││  Evolution^1 │»\n",
       "q_2: ┤ U2(0,pi) ├┤2             ├┤2             ├┤2             ├»\n",
       "     ├──────────┤│              ││              ││              │»\n",
       "q_3: ┤ U2(0,pi) ├┤3             ├┤3             ├┤3             ├»\n",
       "     └──────────┘└──────────────┘└──────────────┘└──────────────┘»\n",
       "c: 4/════════════════════════════════════════════════════════════»\n",
       "                                                                 »\n",
       "«     ┌──────────────┐┌──────────────┐┌──────────────┐┌──────────────┐»\n",
       "«q_0: ┤0             ├┤0             ├┤0             ├┤0             ├»\n",
       "«     │              ││              ││              ││              │»\n",
       "«q_1: ┤1             ├┤1             ├┤1             ├┤1             ├»\n",
       "«     │  Evolution^1 ││  Evolution^1 ││  Evolution^1 ││  Evolution^1 │»\n",
       "«q_2: ┤2             ├┤2             ├┤2             ├┤2             ├»\n",
       "«     │              ││              ││              ││              │»\n",
       "«q_3: ┤3             ├┤3             ├┤3             ├┤3             ├»\n",
       "«     └──────────────┘└──────────────┘└──────────────┘└──────────────┘»\n",
       "«c: 4/════════════════════════════════════════════════════════════════»\n",
       "«                                                                     »\n",
       "«     ┌──────────┐┌──────────────┐┌──────────────┐┌──────────────┐»\n",
       "«q_0: ┤ U2(0,pi) ├┤0             ├┤0             ├┤0             ├»\n",
       "«     ├──────────┤│              ││              ││              │»\n",
       "«q_1: ┤ U2(0,pi) ├┤1             ├┤1             ├┤1             ├»\n",
       "«     ├──────────┤│  Evolution^1 ││  Evolution^1 ││  Evolution^1 │»\n",
       "«q_2: ┤ U2(0,pi) ├┤2             ├┤2             ├┤2             ├»\n",
       "«     ├──────────┤│              ││              ││              │»\n",
       "«q_3: ┤ U2(0,pi) ├┤3             ├┤3             ├┤3             ├»\n",
       "«     └──────────┘└──────────────┘└──────────────┘└──────────────┘»\n",
       "«c: 4/════════════════════════════════════════════════════════════»\n",
       "«                                                                 »\n",
       "«     ┌──────────────┐┌──────────────┐┌──────────────┐┌──────────────┐»\n",
       "«q_0: ┤0             ├┤0             ├┤0             ├┤0             ├»\n",
       "«     │              ││              ││              ││              │»\n",
       "«q_1: ┤1             ├┤1             ├┤1             ├┤1             ├»\n",
       "«     │  Evolution^1 ││  Evolution^1 ││  Evolution^1 ││  Evolution^1 │»\n",
       "«q_2: ┤2             ├┤2             ├┤2             ├┤2             ├»\n",
       "«     │              ││              ││              ││              │»\n",
       "«q_3: ┤3             ├┤3             ├┤3             ├┤3             ├»\n",
       "«     └──────────────┘└──────────────┘└──────────────┘└──────────────┘»\n",
       "«c: 4/════════════════════════════════════════════════════════════════»\n",
       "«                                                                     »\n",
       "«     ┌──────────┐┌──────────────┐┌──────────────┐┌──────────────┐»\n",
       "«q_0: ┤ U2(0,pi) ├┤0             ├┤0             ├┤0             ├»\n",
       "«     ├──────────┤│              ││              ││              │»\n",
       "«q_1: ┤ U2(0,pi) ├┤1             ├┤1             ├┤1             ├»\n",
       "«     ├──────────┤│  Evolution^1 ││  Evolution^1 ││  Evolution^1 │»\n",
       "«q_2: ┤ U2(0,pi) ├┤2             ├┤2             ├┤2             ├»\n",
       "«     ├──────────┤│              ││              ││              │»\n",
       "«q_3: ┤ U2(0,pi) ├┤3             ├┤3             ├┤3             ├»\n",
       "«     └──────────┘└──────────────┘└──────────────┘└──────────────┘»\n",
       "«c: 4/════════════════════════════════════════════════════════════»\n",
       "«                                                                 »\n",
       "«     ┌──────────────┐┌──────────────┐┌──────────────┐┌──────────────┐»\n",
       "«q_0: ┤0             ├┤0             ├┤0             ├┤0             ├»\n",
       "«     │              ││              ││              ││              │»\n",
       "«q_1: ┤1             ├┤1             ├┤1             ├┤1             ├»\n",
       "«     │  Evolution^1 ││  Evolution^1 ││  Evolution^1 ││  Evolution^1 │»\n",
       "«q_2: ┤2             ├┤2             ├┤2             ├┤2             ├»\n",
       "«     │              ││              ││              ││              │»\n",
       "«q_3: ┤3             ├┤3             ├┤3             ├┤3             ├»\n",
       "«     └──────────────┘└──────────────┘└──────────────┘└──────────────┘»\n",
       "«c: 4/════════════════════════════════════════════════════════════════»\n",
       "«                                                                     »\n",
       "«     ┌──────────┐┌──────────────┐┌──────────────┐┌──────────────┐»\n",
       "«q_0: ┤ U2(0,pi) ├┤0             ├┤0             ├┤0             ├»\n",
       "«     ├──────────┤│              ││              ││              │»\n",
       "«q_1: ┤ U2(0,pi) ├┤1             ├┤1             ├┤1             ├»\n",
       "«     ├──────────┤│  Evolution^1 ││  Evolution^1 ││  Evolution^1 │»\n",
       "«q_2: ┤ U2(0,pi) ├┤2             ├┤2             ├┤2             ├»\n",
       "«     ├──────────┤│              ││              ││              │»\n",
       "«q_3: ┤ U2(0,pi) ├┤3             ├┤3             ├┤3             ├»\n",
       "«     └──────────┘└──────────────┘└──────────────┘└──────────────┘»\n",
       "«c: 4/════════════════════════════════════════════════════════════»\n",
       "«                                                                 »\n",
       "«     ┌──────────────┐┌──────────────┐┌──────────────┐┌──────────────┐»\n",
       "«q_0: ┤0             ├┤0             ├┤0             ├┤0             ├»\n",
       "«     │              ││              ││              ││              │»\n",
       "«q_1: ┤1             ├┤1             ├┤1             ├┤1             ├»\n",
       "«     │  Evolution^1 ││  Evolution^1 ││  Evolution^1 ││  Evolution^1 │»\n",
       "«q_2: ┤2             ├┤2             ├┤2             ├┤2             ├»\n",
       "«     │              ││              ││              ││              │»\n",
       "«q_3: ┤3             ├┤3             ├┤3             ├┤3             ├»\n",
       "«     └──────────────┘└──────────────┘└──────────────┘└──────────────┘»\n",
       "«c: 4/════════════════════════════════════════════════════════════════»\n",
       "«                                                                     »\n",
       "«     ┌──────────┐┌──────────────┐┌──────────────┐┌──────────────┐»\n",
       "«q_0: ┤ U2(0,pi) ├┤0             ├┤0             ├┤0             ├»\n",
       "«     ├──────────┤│              ││              ││              │»\n",
       "«q_1: ┤ U2(0,pi) ├┤1             ├┤1             ├┤1             ├»\n",
       "«     ├──────────┤│  Evolution^1 ││  Evolution^1 ││  Evolution^1 │»\n",
       "«q_2: ┤ U2(0,pi) ├┤2             ├┤2             ├┤2             ├»\n",
       "«     ├──────────┤│              ││              ││              │»\n",
       "«q_3: ┤ U2(0,pi) ├┤3             ├┤3             ├┤3             ├»\n",
       "«     └──────────┘└──────────────┘└──────────────┘└──────────────┘»\n",
       "«c: 4/════════════════════════════════════════════════════════════»\n",
       "«                                                                 »\n",
       "«     ┌──────────────┐┌──────────────┐┌──────────────┐┌──────────────┐»\n",
       "«q_0: ┤0             ├┤0             ├┤0             ├┤0             ├»\n",
       "«     │              ││              ││              ││              │»\n",
       "«q_1: ┤1             ├┤1             ├┤1             ├┤1             ├»\n",
       "«     │  Evolution^1 ││  Evolution^1 ││  Evolution^1 ││  Evolution^1 │»\n",
       "«q_2: ┤2             ├┤2             ├┤2             ├┤2             ├»\n",
       "«     │              ││              ││              ││              │»\n",
       "«q_3: ┤3             ├┤3             ├┤3             ├┤3             ├»\n",
       "«     └──────────────┘└──────────────┘└──────────────┘└──────────────┘»\n",
       "«c: 4/════════════════════════════════════════════════════════════════»\n",
       "«                                                                     »\n",
       "«     ┌──────────┐┌──────────────┐┌──────────────┐┌──────────────┐»\n",
       "«q_0: ┤ U2(0,pi) ├┤0             ├┤0             ├┤0             ├»\n",
       "«     ├──────────┤│              ││              ││              │»\n",
       "«q_1: ┤ U2(0,pi) ├┤1             ├┤1             ├┤1             ├»\n",
       "«     ├──────────┤│  Evolution^1 ││  Evolution^1 ││  Evolution^1 │»\n",
       "«q_2: ┤ U2(0,pi) ├┤2             ├┤2             ├┤2             ├»\n",
       "«     ├──────────┤│              ││              ││              │»\n",
       "«q_3: ┤ U2(0,pi) ├┤3             ├┤3             ├┤3             ├»\n",
       "«     └──────────┘└──────────────┘└──────────────┘└──────────────┘»\n",
       "«c: 4/════════════════════════════════════════════════════════════»\n",
       "«                                                                 »\n",
       "«     ┌──────────────┐┌──────────────┐┌──────────────┐┌──────────────┐»\n",
       "«q_0: ┤0             ├┤0             ├┤0             ├┤0             ├»\n",
       "«     │              ││              ││              ││              │»\n",
       "«q_1: ┤1             ├┤1             ├┤1             ├┤1             ├»\n",
       "«     │  Evolution^1 ││  Evolution^1 ││  Evolution^1 ││  Evolution^1 │»\n",
       "«q_2: ┤2             ├┤2             ├┤2             ├┤2             ├»\n",
       "«     │              ││              ││              ││              │»\n",
       "«q_3: ┤3             ├┤3             ├┤3             ├┤3             ├»\n",
       "«     └──────────────┘└──────────────┘└──────────────┘└──────────────┘»\n",
       "«c: 4/════════════════════════════════════════════════════════════════»\n",
       "«                                                                     »\n",
       "«     ┌─────────────────┐┌─────────────────┐┌─────────────────┐»\n",
       "«q_0: ┤0                ├┤0                ├┤0                ├»\n",
       "«     │                 ││                 ││                 │»\n",
       "«q_1: ┤1                ├┤1                ├┤1                ├»\n",
       "«     │  Evolution^1_dg ││  Evolution^1_dg ││  Evolution^1_dg │»\n",
       "«q_2: ┤2                ├┤2                ├┤2                ├»\n",
       "«     │                 ││                 ││                 │»\n",
       "«q_3: ┤3                ├┤3                ├┤3                ├»\n",
       "«     └─────────────────┘└─────────────────┘└─────────────────┘»\n",
       "«c: 4/═════════════════════════════════════════════════════════»\n",
       "«                                                              »\n",
       "«     ┌─────────────────┐┌─────────────────┐┌─────────────────┐»\n",
       "«q_0: ┤0                ├┤0                ├┤0                ├»\n",
       "«     │                 ││                 ││                 │»\n",
       "«q_1: ┤1                ├┤1                ├┤1                ├»\n",
       "«     │  Evolution^1_dg ││  Evolution^1_dg ││  Evolution^1_dg │»\n",
       "«q_2: ┤2                ├┤2                ├┤2                ├»\n",
       "«     │                 ││                 ││                 │»\n",
       "«q_3: ┤3                ├┤3                ├┤3                ├»\n",
       "«     └─────────────────┘└─────────────────┘└─────────────────┘»\n",
       "«c: 4/═════════════════════════════════════════════════════════»\n",
       "«                                                              »\n",
       "«     ┌─────────────────┐┌─────────────┐┌─────────────────┐┌─────────────────┐»\n",
       "«q_0: ┤0                ├┤ U2(-2pi,pi) ├┤0                ├┤0                ├»\n",
       "«     │                 │├─────────────┤│                 ││                 │»\n",
       "«q_1: ┤1                ├┤ U2(-2pi,pi) ├┤1                ├┤1                ├»\n",
       "«     │  Evolution^1_dg │├─────────────┤│  Evolution^1_dg ││  Evolution^1_dg │»\n",
       "«q_2: ┤2                ├┤ U2(-2pi,pi) ├┤2                ├┤2                ├»\n",
       "«     │                 │├─────────────┤│                 ││                 │»\n",
       "«q_3: ┤3                ├┤ U2(-2pi,pi) ├┤3                ├┤3                ├»\n",
       "«     └─────────────────┘└─────────────┘└─────────────────┘└─────────────────┘»\n",
       "«c: 4/════════════════════════════════════════════════════════════════════════»\n",
       "«                                                                             »\n",
       "«     ┌─────────────────┐┌─────────────────┐┌─────────────────┐»\n",
       "«q_0: ┤0                ├┤0                ├┤0                ├»\n",
       "«     │                 ││                 ││                 │»\n",
       "«q_1: ┤1                ├┤1                ├┤1                ├»\n",
       "«     │  Evolution^1_dg ││  Evolution^1_dg ││  Evolution^1_dg │»\n",
       "«q_2: ┤2                ├┤2                ├┤2                ├»\n",
       "«     │                 ││                 ││                 │»\n",
       "«q_3: ┤3                ├┤3                ├┤3                ├»\n",
       "«     └─────────────────┘└─────────────────┘└─────────────────┘»\n",
       "«c: 4/═════════════════════════════════════════════════════════»\n",
       "«                                                              »\n",
       "«     ┌─────────────────┐┌─────────────────┐┌─────────────┐┌─────────────────┐»\n",
       "«q_0: ┤0                ├┤0                ├┤ U2(-2pi,pi) ├┤0                ├»\n",
       "«     │                 ││                 │├─────────────┤│                 │»\n",
       "«q_1: ┤1                ├┤1                ├┤ U2(-2pi,pi) ├┤1                ├»\n",
       "«     │  Evolution^1_dg ││  Evolution^1_dg │├─────────────┤│  Evolution^1_dg │»\n",
       "«q_2: ┤2                ├┤2                ├┤ U2(-2pi,pi) ├┤2                ├»\n",
       "«     │                 ││                 │├─────────────┤│                 │»\n",
       "«q_3: ┤3                ├┤3                ├┤ U2(-2pi,pi) ├┤3                ├»\n",
       "«     └─────────────────┘└─────────────────┘└─────────────┘└─────────────────┘»\n",
       "«c: 4/════════════════════════════════════════════════════════════════════════»\n",
       "«                                                                             »\n",
       "«     ┌─────────────────┐┌─────────────────┐┌─────────────────┐»\n",
       "«q_0: ┤0                ├┤0                ├┤0                ├»\n",
       "«     │                 ││                 ││                 │»\n",
       "«q_1: ┤1                ├┤1                ├┤1                ├»\n",
       "«     │  Evolution^1_dg ││  Evolution^1_dg ││  Evolution^1_dg │»\n",
       "«q_2: ┤2                ├┤2                ├┤2                ├»\n",
       "«     │                 ││                 ││                 │»\n",
       "«q_3: ┤3                ├┤3                ├┤3                ├»\n",
       "«     └─────────────────┘└─────────────────┘└─────────────────┘»\n",
       "«c: 4/═════════════════════════════════════════════════════════»\n",
       "«                                                              »\n",
       "«     ┌─────────────────┐┌─────────────────┐┌─────────────────┐┌─────────────┐»\n",
       "«q_0: ┤0                ├┤0                ├┤0                ├┤ U2(-2pi,pi) ├»\n",
       "«     │                 ││                 ││                 │├─────────────┤»\n",
       "«q_1: ┤1                ├┤1                ├┤1                ├┤ U2(-2pi,pi) ├»\n",
       "«     │  Evolution^1_dg ││  Evolution^1_dg ││  Evolution^1_dg │├─────────────┤»\n",
       "«q_2: ┤2                ├┤2                ├┤2                ├┤ U2(-2pi,pi) ├»\n",
       "«     │                 ││                 ││                 │├─────────────┤»\n",
       "«q_3: ┤3                ├┤3                ├┤3                ├┤ U2(-2pi,pi) ├»\n",
       "«     └─────────────────┘└─────────────────┘└─────────────────┘└─────────────┘»\n",
       "«c: 4/════════════════════════════════════════════════════════════════════════»\n",
       "«                                                                             »\n",
       "«     ┌─────────────────┐┌─────────────────┐┌─────────────────┐»\n",
       "«q_0: ┤0                ├┤0                ├┤0                ├»\n",
       "«     │                 ││                 ││                 │»\n",
       "«q_1: ┤1                ├┤1                ├┤1                ├»\n",
       "«     │  Evolution^1_dg ││  Evolution^1_dg ││  Evolution^1_dg │»\n",
       "«q_2: ┤2                ├┤2                ├┤2                ├»\n",
       "«     │                 ││                 ││                 │»\n",
       "«q_3: ┤3                ├┤3                ├┤3                ├»\n",
       "«     └─────────────────┘└─────────────────┘└─────────────────┘»\n",
       "«c: 4/═════════════════════════════════════════════════════════»\n",
       "«                                                              »\n",
       "«     ┌─────────────────┐┌─────────────────┐┌─────────────────┐»\n",
       "«q_0: ┤0                ├┤0                ├┤0                ├»\n",
       "«     │                 ││                 ││                 │»\n",
       "«q_1: ┤1                ├┤1                ├┤1                ├»\n",
       "«     │  Evolution^1_dg ││  Evolution^1_dg ││  Evolution^1_dg │»\n",
       "«q_2: ┤2                ├┤2                ├┤2                ├»\n",
       "«     │                 ││                 ││                 │»\n",
       "«q_3: ┤3                ├┤3                ├┤3                ├»\n",
       "«     └─────────────────┘└─────────────────┘└─────────────────┘»\n",
       "«c: 4/═════════════════════════════════════════════════════════»\n",
       "«                                                              »\n",
       "«     ┌─────────────────┐┌─────────────┐┌─────────────────┐┌─────────────────┐»\n",
       "«q_0: ┤0                ├┤ U2(-2pi,pi) ├┤0                ├┤0                ├»\n",
       "«     │                 │├─────────────┤│                 ││                 │»\n",
       "«q_1: ┤1                ├┤ U2(-2pi,pi) ├┤1                ├┤1                ├»\n",
       "«     │  Evolution^1_dg │├─────────────┤│  Evolution^1_dg ││  Evolution^1_dg │»\n",
       "«q_2: ┤2                ├┤ U2(-2pi,pi) ├┤2                ├┤2                ├»\n",
       "«     │                 │├─────────────┤│                 ││                 │»\n",
       "«q_3: ┤3                ├┤ U2(-2pi,pi) ├┤3                ├┤3                ├»\n",
       "«     └─────────────────┘└─────────────┘└─────────────────┘└─────────────────┘»\n",
       "«c: 4/════════════════════════════════════════════════════════════════════════»\n",
       "«                                                                             »\n",
       "«     ┌─────────────────┐┌─────────────────┐┌─────────────────┐»\n",
       "«q_0: ┤0                ├┤0                ├┤0                ├»\n",
       "«     │                 ││                 ││                 │»\n",
       "«q_1: ┤1                ├┤1                ├┤1                ├»\n",
       "«     │  Evolution^1_dg ││  Evolution^1_dg ││  Evolution^1_dg │»\n",
       "«q_2: ┤2                ├┤2                ├┤2                ├»\n",
       "«     │                 ││                 ││                 │»\n",
       "«q_3: ┤3                ├┤3                ├┤3                ├»\n",
       "«     └─────────────────┘└─────────────────┘└─────────────────┘»\n",
       "«c: 4/═════════════════════════════════════════════════════════»\n",
       "«                                                              »\n",
       "«     ┌─────────────────┐┌─────────────────┐┌─────────────┐┌─────────────────┐»\n",
       "«q_0: ┤0                ├┤0                ├┤ U2(-2pi,pi) ├┤0                ├»\n",
       "«     │                 ││                 │├─────────────┤│                 │»\n",
       "«q_1: ┤1                ├┤1                ├┤ U2(-2pi,pi) ├┤1                ├»\n",
       "«     │  Evolution^1_dg ││  Evolution^1_dg │├─────────────┤│  Evolution^1_dg │»\n",
       "«q_2: ┤2                ├┤2                ├┤ U2(-2pi,pi) ├┤2                ├»\n",
       "«     │                 ││                 │├─────────────┤│                 │»\n",
       "«q_3: ┤3                ├┤3                ├┤ U2(-2pi,pi) ├┤3                ├»\n",
       "«     └─────────────────┘└─────────────────┘└─────────────┘└─────────────────┘»\n",
       "«c: 4/════════════════════════════════════════════════════════════════════════»\n",
       "«                                                                             »\n",
       "«     ┌─────────────────┐┌─────────────────┐┌─────────────────┐»\n",
       "«q_0: ┤0                ├┤0                ├┤0                ├»\n",
       "«     │                 ││                 ││                 │»\n",
       "«q_1: ┤1                ├┤1                ├┤1                ├»\n",
       "«     │  Evolution^1_dg ││  Evolution^1_dg ││  Evolution^1_dg │»\n",
       "«q_2: ┤2                ├┤2                ├┤2                ├»\n",
       "«     │                 ││                 ││                 │»\n",
       "«q_3: ┤3                ├┤3                ├┤3                ├»\n",
       "«     └─────────────────┘└─────────────────┘└─────────────────┘»\n",
       "«c: 4/═════════════════════════════════════════════════════════»\n",
       "«                                                              »\n",
       "«     ┌─────────────────┐┌─────────────────┐┌─────────────────┐┌─────────────┐\n",
       "«q_0: ┤0                ├┤0                ├┤0                ├┤ U2(-2pi,pi) ├\n",
       "«     │                 ││                 ││                 │├─────────────┤\n",
       "«q_1: ┤1                ├┤1                ├┤1                ├┤ U2(-2pi,pi) ├\n",
       "«     │  Evolution^1_dg ││  Evolution^1_dg ││  Evolution^1_dg │├─────────────┤\n",
       "«q_2: ┤2                ├┤2                ├┤2                ├┤ U2(-2pi,pi) ├\n",
       "«     │                 ││                 ││                 │├─────────────┤\n",
       "«q_3: ┤3                ├┤3                ├┤3                ├┤ U2(-2pi,pi) ├\n",
       "«     └─────────────────┘└─────────────────┘└─────────────────┘└─────────────┘\n",
       "«c: 4/════════════════════════════════════════════════════════════════════════\n",
       "«                                                                             </pre>"
      ],
      "text/plain": [
       "     ┌──────────┐┌──────────────┐┌──────────────┐┌──────────────┐»\n",
       "q_0: ┤ U2(0,pi) ├┤0             ├┤0             ├┤0             ├»\n",
       "     ├──────────┤│              ││              ││              │»\n",
       "q_1: ┤ U2(0,pi) ├┤1             ├┤1             ├┤1             ├»\n",
       "     ├──────────┤│  Evolution^1 ││  Evolution^1 ││  Evolution^1 │»\n",
       "q_2: ┤ U2(0,pi) ├┤2             ├┤2             ├┤2             ├»\n",
       "     ├──────────┤│              ││              ││              │»\n",
       "q_3: ┤ U2(0,pi) ├┤3             ├┤3             ├┤3             ├»\n",
       "     └──────────┘└──────────────┘└──────────────┘└──────────────┘»\n",
       "c: 4/════════════════════════════════════════════════════════════»\n",
       "                                                                 »\n",
       "«     ┌──────────────┐┌──────────────┐┌──────────────┐┌──────────────┐»\n",
       "«q_0: ┤0             ├┤0             ├┤0             ├┤0             ├»\n",
       "«     │              ││              ││              ││              │»\n",
       "«q_1: ┤1             ├┤1             ├┤1             ├┤1             ├»\n",
       "«     │  Evolution^1 ││  Evolution^1 ││  Evolution^1 ││  Evolution^1 │»\n",
       "«q_2: ┤2             ├┤2             ├┤2             ├┤2             ├»\n",
       "«     │              ││              ││              ││              │»\n",
       "«q_3: ┤3             ├┤3             ├┤3             ├┤3             ├»\n",
       "«     └──────────────┘└──────────────┘└──────────────┘└──────────────┘»\n",
       "«c: 4/════════════════════════════════════════════════════════════════»\n",
       "«                                                                     »\n",
       "«     ┌──────────┐┌──────────────┐┌──────────────┐┌──────────────┐»\n",
       "«q_0: ┤ U2(0,pi) ├┤0             ├┤0             ├┤0             ├»\n",
       "«     ├──────────┤│              ││              ││              │»\n",
       "«q_1: ┤ U2(0,pi) ├┤1             ├┤1             ├┤1             ├»\n",
       "«     ├──────────┤│  Evolution^1 ││  Evolution^1 ││  Evolution^1 │»\n",
       "«q_2: ┤ U2(0,pi) ├┤2             ├┤2             ├┤2             ├»\n",
       "«     ├──────────┤│              ││              ││              │»\n",
       "«q_3: ┤ U2(0,pi) ├┤3             ├┤3             ├┤3             ├»\n",
       "«     └──────────┘└──────────────┘└──────────────┘└──────────────┘»\n",
       "«c: 4/════════════════════════════════════════════════════════════»\n",
       "«                                                                 »\n",
       "«     ┌──────────────┐┌──────────────┐┌──────────────┐┌──────────────┐»\n",
       "«q_0: ┤0             ├┤0             ├┤0             ├┤0             ├»\n",
       "«     │              ││              ││              ││              │»\n",
       "«q_1: ┤1             ├┤1             ├┤1             ├┤1             ├»\n",
       "«     │  Evolution^1 ││  Evolution^1 ││  Evolution^1 ││  Evolution^1 │»\n",
       "«q_2: ┤2             ├┤2             ├┤2             ├┤2             ├»\n",
       "«     │              ││              ││              ││              │»\n",
       "«q_3: ┤3             ├┤3             ├┤3             ├┤3             ├»\n",
       "«     └──────────────┘└──────────────┘└──────────────┘└──────────────┘»\n",
       "«c: 4/════════════════════════════════════════════════════════════════»\n",
       "«                                                                     »\n",
       "«     ┌──────────┐┌──────────────┐┌──────────────┐┌──────────────┐»\n",
       "«q_0: ┤ U2(0,pi) ├┤0             ├┤0             ├┤0             ├»\n",
       "«     ├──────────┤│              ││              ││              │»\n",
       "«q_1: ┤ U2(0,pi) ├┤1             ├┤1             ├┤1             ├»\n",
       "«     ├──────────┤│  Evolution^1 ││  Evolution^1 ││  Evolution^1 │»\n",
       "«q_2: ┤ U2(0,pi) ├┤2             ├┤2             ├┤2             ├»\n",
       "«     ├──────────┤│              ││              ││              │»\n",
       "«q_3: ┤ U2(0,pi) ├┤3             ├┤3             ├┤3             ├»\n",
       "«     └──────────┘└──────────────┘└──────────────┘└──────────────┘»\n",
       "«c: 4/════════════════════════════════════════════════════════════»\n",
       "«                                                                 »\n",
       "«     ┌──────────────┐┌──────────────┐┌──────────────┐┌──────────────┐»\n",
       "«q_0: ┤0             ├┤0             ├┤0             ├┤0             ├»\n",
       "«     │              ││              ││              ││              │»\n",
       "«q_1: ┤1             ├┤1             ├┤1             ├┤1             ├»\n",
       "«     │  Evolution^1 ││  Evolution^1 ││  Evolution^1 ││  Evolution^1 │»\n",
       "«q_2: ┤2             ├┤2             ├┤2             ├┤2             ├»\n",
       "«     │              ││              ││              ││              │»\n",
       "«q_3: ┤3             ├┤3             ├┤3             ├┤3             ├»\n",
       "«     └──────────────┘└──────────────┘└──────────────┘└──────────────┘»\n",
       "«c: 4/════════════════════════════════════════════════════════════════»\n",
       "«                                                                     »\n",
       "«     ┌──────────┐┌──────────────┐┌──────────────┐┌──────────────┐»\n",
       "«q_0: ┤ U2(0,pi) ├┤0             ├┤0             ├┤0             ├»\n",
       "«     ├──────────┤│              ││              ││              │»\n",
       "«q_1: ┤ U2(0,pi) ├┤1             ├┤1             ├┤1             ├»\n",
       "«     ├──────────┤│  Evolution^1 ││  Evolution^1 ││  Evolution^1 │»\n",
       "«q_2: ┤ U2(0,pi) ├┤2             ├┤2             ├┤2             ├»\n",
       "«     ├──────────┤│              ││              ││              │»\n",
       "«q_3: ┤ U2(0,pi) ├┤3             ├┤3             ├┤3             ├»\n",
       "«     └──────────┘└──────────────┘└──────────────┘└──────────────┘»\n",
       "«c: 4/════════════════════════════════════════════════════════════»\n",
       "«                                                                 »\n",
       "«     ┌──────────────┐┌──────────────┐┌──────────────┐┌──────────────┐»\n",
       "«q_0: ┤0             ├┤0             ├┤0             ├┤0             ├»\n",
       "«     │              ││              ││              ││              │»\n",
       "«q_1: ┤1             ├┤1             ├┤1             ├┤1             ├»\n",
       "«     │  Evolution^1 ││  Evolution^1 ││  Evolution^1 ││  Evolution^1 │»\n",
       "«q_2: ┤2             ├┤2             ├┤2             ├┤2             ├»\n",
       "«     │              ││              ││              ││              │»\n",
       "«q_3: ┤3             ├┤3             ├┤3             ├┤3             ├»\n",
       "«     └──────────────┘└──────────────┘└──────────────┘└──────────────┘»\n",
       "«c: 4/════════════════════════════════════════════════════════════════»\n",
       "«                                                                     »\n",
       "«     ┌──────────┐┌──────────────┐┌──────────────┐┌──────────────┐»\n",
       "«q_0: ┤ U2(0,pi) ├┤0             ├┤0             ├┤0             ├»\n",
       "«     ├──────────┤│              ││              ││              │»\n",
       "«q_1: ┤ U2(0,pi) ├┤1             ├┤1             ├┤1             ├»\n",
       "«     ├──────────┤│  Evolution^1 ││  Evolution^1 ││  Evolution^1 │»\n",
       "«q_2: ┤ U2(0,pi) ├┤2             ├┤2             ├┤2             ├»\n",
       "«     ├──────────┤│              ││              ││              │»\n",
       "«q_3: ┤ U2(0,pi) ├┤3             ├┤3             ├┤3             ├»\n",
       "«     └──────────┘└──────────────┘└──────────────┘└──────────────┘»\n",
       "«c: 4/════════════════════════════════════════════════════════════»\n",
       "«                                                                 »\n",
       "«     ┌──────────────┐┌──────────────┐┌──────────────┐┌──────────────┐»\n",
       "«q_0: ┤0             ├┤0             ├┤0             ├┤0             ├»\n",
       "«     │              ││              ││              ││              │»\n",
       "«q_1: ┤1             ├┤1             ├┤1             ├┤1             ├»\n",
       "«     │  Evolution^1 ││  Evolution^1 ││  Evolution^1 ││  Evolution^1 │»\n",
       "«q_2: ┤2             ├┤2             ├┤2             ├┤2             ├»\n",
       "«     │              ││              ││              ││              │»\n",
       "«q_3: ┤3             ├┤3             ├┤3             ├┤3             ├»\n",
       "«     └──────────────┘└──────────────┘└──────────────┘└──────────────┘»\n",
       "«c: 4/════════════════════════════════════════════════════════════════»\n",
       "«                                                                     »\n",
       "«     ┌──────────┐┌──────────────┐┌──────────────┐┌──────────────┐»\n",
       "«q_0: ┤ U2(0,pi) ├┤0             ├┤0             ├┤0             ├»\n",
       "«     ├──────────┤│              ││              ││              │»\n",
       "«q_1: ┤ U2(0,pi) ├┤1             ├┤1             ├┤1             ├»\n",
       "«     ├──────────┤│  Evolution^1 ││  Evolution^1 ││  Evolution^1 │»\n",
       "«q_2: ┤ U2(0,pi) ├┤2             ├┤2             ├┤2             ├»\n",
       "«     ├──────────┤│              ││              ││              │»\n",
       "«q_3: ┤ U2(0,pi) ├┤3             ├┤3             ├┤3             ├»\n",
       "«     └──────────┘└──────────────┘└──────────────┘└──────────────┘»\n",
       "«c: 4/════════════════════════════════════════════════════════════»\n",
       "«                                                                 »\n",
       "«     ┌──────────────┐┌──────────────┐┌──────────────┐┌──────────────┐»\n",
       "«q_0: ┤0             ├┤0             ├┤0             ├┤0             ├»\n",
       "«     │              ││              ││              ││              │»\n",
       "«q_1: ┤1             ├┤1             ├┤1             ├┤1             ├»\n",
       "«     │  Evolution^1 ││  Evolution^1 ││  Evolution^1 ││  Evolution^1 │»\n",
       "«q_2: ┤2             ├┤2             ├┤2             ├┤2             ├»\n",
       "«     │              ││              ││              ││              │»\n",
       "«q_3: ┤3             ├┤3             ├┤3             ├┤3             ├»\n",
       "«     └──────────────┘└──────────────┘└──────────────┘└──────────────┘»\n",
       "«c: 4/════════════════════════════════════════════════════════════════»\n",
       "«                                                                     »\n",
       "«     ┌─────────────────┐┌─────────────────┐┌─────────────────┐»\n",
       "«q_0: ┤0                ├┤0                ├┤0                ├»\n",
       "«     │                 ││                 ││                 │»\n",
       "«q_1: ┤1                ├┤1                ├┤1                ├»\n",
       "«     │  Evolution^1_dg ││  Evolution^1_dg ││  Evolution^1_dg │»\n",
       "«q_2: ┤2                ├┤2                ├┤2                ├»\n",
       "«     │                 ││                 ││                 │»\n",
       "«q_3: ┤3                ├┤3                ├┤3                ├»\n",
       "«     └─────────────────┘└─────────────────┘└─────────────────┘»\n",
       "«c: 4/═════════════════════════════════════════════════════════»\n",
       "«                                                              »\n",
       "«     ┌─────────────────┐┌─────────────────┐┌─────────────────┐»\n",
       "«q_0: ┤0                ├┤0                ├┤0                ├»\n",
       "«     │                 ││                 ││                 │»\n",
       "«q_1: ┤1                ├┤1                ├┤1                ├»\n",
       "«     │  Evolution^1_dg ││  Evolution^1_dg ││  Evolution^1_dg │»\n",
       "«q_2: ┤2                ├┤2                ├┤2                ├»\n",
       "«     │                 ││                 ││                 │»\n",
       "«q_3: ┤3                ├┤3                ├┤3                ├»\n",
       "«     └─────────────────┘└─────────────────┘└─────────────────┘»\n",
       "«c: 4/═════════════════════════════════════════════════════════»\n",
       "«                                                              »\n",
       "«     ┌─────────────────┐┌─────────────┐┌─────────────────┐┌─────────────────┐»\n",
       "«q_0: ┤0                ├┤ U2(-2pi,pi) ├┤0                ├┤0                ├»\n",
       "«     │                 │├─────────────┤│                 ││                 │»\n",
       "«q_1: ┤1                ├┤ U2(-2pi,pi) ├┤1                ├┤1                ├»\n",
       "«     │  Evolution^1_dg │├─────────────┤│  Evolution^1_dg ││  Evolution^1_dg │»\n",
       "«q_2: ┤2                ├┤ U2(-2pi,pi) ├┤2                ├┤2                ├»\n",
       "«     │                 │├─────────────┤│                 ││                 │»\n",
       "«q_3: ┤3                ├┤ U2(-2pi,pi) ├┤3                ├┤3                ├»\n",
       "«     └─────────────────┘└─────────────┘└─────────────────┘└─────────────────┘»\n",
       "«c: 4/════════════════════════════════════════════════════════════════════════»\n",
       "«                                                                             »\n",
       "«     ┌─────────────────┐┌─────────────────┐┌─────────────────┐»\n",
       "«q_0: ┤0                ├┤0                ├┤0                ├»\n",
       "«     │                 ││                 ││                 │»\n",
       "«q_1: ┤1                ├┤1                ├┤1                ├»\n",
       "«     │  Evolution^1_dg ││  Evolution^1_dg ││  Evolution^1_dg │»\n",
       "«q_2: ┤2                ├┤2                ├┤2                ├»\n",
       "«     │                 ││                 ││                 │»\n",
       "«q_3: ┤3                ├┤3                ├┤3                ├»\n",
       "«     └─────────────────┘└─────────────────┘└─────────────────┘»\n",
       "«c: 4/═════════════════════════════════════════════════════════»\n",
       "«                                                              »\n",
       "«     ┌─────────────────┐┌─────────────────┐┌─────────────┐┌─────────────────┐»\n",
       "«q_0: ┤0                ├┤0                ├┤ U2(-2pi,pi) ├┤0                ├»\n",
       "«     │                 ││                 │├─────────────┤│                 │»\n",
       "«q_1: ┤1                ├┤1                ├┤ U2(-2pi,pi) ├┤1                ├»\n",
       "«     │  Evolution^1_dg ││  Evolution^1_dg │├─────────────┤│  Evolution^1_dg │»\n",
       "«q_2: ┤2                ├┤2                ├┤ U2(-2pi,pi) ├┤2                ├»\n",
       "«     │                 ││                 │├─────────────┤│                 │»\n",
       "«q_3: ┤3                ├┤3                ├┤ U2(-2pi,pi) ├┤3                ├»\n",
       "«     └─────────────────┘└─────────────────┘└─────────────┘└─────────────────┘»\n",
       "«c: 4/════════════════════════════════════════════════════════════════════════»\n",
       "«                                                                             »\n",
       "«     ┌─────────────────┐┌─────────────────┐┌─────────────────┐»\n",
       "«q_0: ┤0                ├┤0                ├┤0                ├»\n",
       "«     │                 ││                 ││                 │»\n",
       "«q_1: ┤1                ├┤1                ├┤1                ├»\n",
       "«     │  Evolution^1_dg ││  Evolution^1_dg ││  Evolution^1_dg │»\n",
       "«q_2: ┤2                ├┤2                ├┤2                ├»\n",
       "«     │                 ││                 ││                 │»\n",
       "«q_3: ┤3                ├┤3                ├┤3                ├»\n",
       "«     └─────────────────┘└─────────────────┘└─────────────────┘»\n",
       "«c: 4/═════════════════════════════════════════════════════════»\n",
       "«                                                              »\n",
       "«     ┌─────────────────┐┌─────────────────┐┌─────────────────┐┌─────────────┐»\n",
       "«q_0: ┤0                ├┤0                ├┤0                ├┤ U2(-2pi,pi) ├»\n",
       "«     │                 ││                 ││                 │├─────────────┤»\n",
       "«q_1: ┤1                ├┤1                ├┤1                ├┤ U2(-2pi,pi) ├»\n",
       "«     │  Evolution^1_dg ││  Evolution^1_dg ││  Evolution^1_dg │├─────────────┤»\n",
       "«q_2: ┤2                ├┤2                ├┤2                ├┤ U2(-2pi,pi) ├»\n",
       "«     │                 ││                 ││                 │├─────────────┤»\n",
       "«q_3: ┤3                ├┤3                ├┤3                ├┤ U2(-2pi,pi) ├»\n",
       "«     └─────────────────┘└─────────────────┘└─────────────────┘└─────────────┘»\n",
       "«c: 4/════════════════════════════════════════════════════════════════════════»\n",
       "«                                                                             »\n",
       "«     ┌─────────────────┐┌─────────────────┐┌─────────────────┐»\n",
       "«q_0: ┤0                ├┤0                ├┤0                ├»\n",
       "«     │                 ││                 ││                 │»\n",
       "«q_1: ┤1                ├┤1                ├┤1                ├»\n",
       "«     │  Evolution^1_dg ││  Evolution^1_dg ││  Evolution^1_dg │»\n",
       "«q_2: ┤2                ├┤2                ├┤2                ├»\n",
       "«     │                 ││                 ││                 │»\n",
       "«q_3: ┤3                ├┤3                ├┤3                ├»\n",
       "«     └─────────────────┘└─────────────────┘└─────────────────┘»\n",
       "«c: 4/═════════════════════════════════════════════════════════»\n",
       "«                                                              »\n",
       "«     ┌─────────────────┐┌─────────────────┐┌─────────────────┐»\n",
       "«q_0: ┤0                ├┤0                ├┤0                ├»\n",
       "«     │                 ││                 ││                 │»\n",
       "«q_1: ┤1                ├┤1                ├┤1                ├»\n",
       "«     │  Evolution^1_dg ││  Evolution^1_dg ││  Evolution^1_dg │»\n",
       "«q_2: ┤2                ├┤2                ├┤2                ├»\n",
       "«     │                 ││                 ││                 │»\n",
       "«q_3: ┤3                ├┤3                ├┤3                ├»\n",
       "«     └─────────────────┘└─────────────────┘└─────────────────┘»\n",
       "«c: 4/═════════════════════════════════════════════════════════»\n",
       "«                                                              »\n",
       "«     ┌─────────────────┐┌─────────────┐┌─────────────────┐┌─────────────────┐»\n",
       "«q_0: ┤0                ├┤ U2(-2pi,pi) ├┤0                ├┤0                ├»\n",
       "«     │                 │├─────────────┤│                 ││                 │»\n",
       "«q_1: ┤1                ├┤ U2(-2pi,pi) ├┤1                ├┤1                ├»\n",
       "«     │  Evolution^1_dg │├─────────────┤│  Evolution^1_dg ││  Evolution^1_dg │»\n",
       "«q_2: ┤2                ├┤ U2(-2pi,pi) ├┤2                ├┤2                ├»\n",
       "«     │                 │├─────────────┤│                 ││                 │»\n",
       "«q_3: ┤3                ├┤ U2(-2pi,pi) ├┤3                ├┤3                ├»\n",
       "«     └─────────────────┘└─────────────┘└─────────────────┘└─────────────────┘»\n",
       "«c: 4/════════════════════════════════════════════════════════════════════════»\n",
       "«                                                                             »\n",
       "«     ┌─────────────────┐┌─────────────────┐┌─────────────────┐»\n",
       "«q_0: ┤0                ├┤0                ├┤0                ├»\n",
       "«     │                 ││                 ││                 │»\n",
       "«q_1: ┤1                ├┤1                ├┤1                ├»\n",
       "«     │  Evolution^1_dg ││  Evolution^1_dg ││  Evolution^1_dg │»\n",
       "«q_2: ┤2                ├┤2                ├┤2                ├»\n",
       "«     │                 ││                 ││                 │»\n",
       "«q_3: ┤3                ├┤3                ├┤3                ├»\n",
       "«     └─────────────────┘└─────────────────┘└─────────────────┘»\n",
       "«c: 4/═════════════════════════════════════════════════════════»\n",
       "«                                                              »\n",
       "«     ┌─────────────────┐┌─────────────────┐┌─────────────┐┌─────────────────┐»\n",
       "«q_0: ┤0                ├┤0                ├┤ U2(-2pi,pi) ├┤0                ├»\n",
       "«     │                 ││                 │├─────────────┤│                 │»\n",
       "«q_1: ┤1                ├┤1                ├┤ U2(-2pi,pi) ├┤1                ├»\n",
       "«     │  Evolution^1_dg ││  Evolution^1_dg │├─────────────┤│  Evolution^1_dg │»\n",
       "«q_2: ┤2                ├┤2                ├┤ U2(-2pi,pi) ├┤2                ├»\n",
       "«     │                 ││                 │├─────────────┤│                 │»\n",
       "«q_3: ┤3                ├┤3                ├┤ U2(-2pi,pi) ├┤3                ├»\n",
       "«     └─────────────────┘└─────────────────┘└─────────────┘└─────────────────┘»\n",
       "«c: 4/════════════════════════════════════════════════════════════════════════»\n",
       "«                                                                             »\n",
       "«     ┌─────────────────┐┌─────────────────┐┌─────────────────┐»\n",
       "«q_0: ┤0                ├┤0                ├┤0                ├»\n",
       "«     │                 ││                 ││                 │»\n",
       "«q_1: ┤1                ├┤1                ├┤1                ├»\n",
       "«     │  Evolution^1_dg ││  Evolution^1_dg ││  Evolution^1_dg │»\n",
       "«q_2: ┤2                ├┤2                ├┤2                ├»\n",
       "«     │                 ││                 ││                 │»\n",
       "«q_3: ┤3                ├┤3                ├┤3                ├»\n",
       "«     └─────────────────┘└─────────────────┘└─────────────────┘»\n",
       "«c: 4/═════════════════════════════════════════════════════════»\n",
       "«                                                              »\n",
       "«     ┌─────────────────┐┌─────────────────┐┌─────────────────┐┌─────────────┐\n",
       "«q_0: ┤0                ├┤0                ├┤0                ├┤ U2(-2pi,pi) ├\n",
       "«     │                 ││                 ││                 │├─────────────┤\n",
       "«q_1: ┤1                ├┤1                ├┤1                ├┤ U2(-2pi,pi) ├\n",
       "«     │  Evolution^1_dg ││  Evolution^1_dg ││  Evolution^1_dg │├─────────────┤\n",
       "«q_2: ┤2                ├┤2                ├┤2                ├┤ U2(-2pi,pi) ├\n",
       "«     │                 ││                 ││                 │├─────────────┤\n",
       "«q_3: ┤3                ├┤3                ├┤3                ├┤ U2(-2pi,pi) ├\n",
       "«     └─────────────────┘└─────────────────┘└─────────────────┘└─────────────┘\n",
       "«c: 4/════════════════════════════════════════════════════════════════════════\n",
       "«                                                                             "
      ]
     },
     "execution_count": 33,
     "metadata": {},
     "output_type": "execute_result"
    }
   ],
   "source": [
    "qc = qsvm.construct_circuit(x1=datapoints[0][0], x2=datapoints[0][2]) # these are two data points.\n",
    "qc.draw()"
   ]
  },
  {
   "cell_type": "code",
   "execution_count": null,
   "metadata": {
    "colab": {},
    "colab_type": "code",
    "id": "AKGkPoxUqwmo"
   },
   "outputs": [],
   "source": []
  }
 ],
 "metadata": {
  "colab": {
   "collapsed_sections": [],
   "name": "Quantum_SVM_QISKIT_v2.ipynb",
   "provenance": [],
   "toc_visible": true
  },
  "kernelspec": {
   "display_name": "Python 3",
   "language": "python",
   "name": "python3"
  },
  "language_info": {
   "codemirror_mode": {
    "name": "ipython",
    "version": 3
   },
   "file_extension": ".py",
   "mimetype": "text/x-python",
   "name": "python",
   "nbconvert_exporter": "python",
   "pygments_lexer": "ipython3",
   "version": "3.7.4"
  }
 },
 "nbformat": 4,
 "nbformat_minor": 1
}
